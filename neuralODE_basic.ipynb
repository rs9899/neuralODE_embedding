{
  "nbformat": 4,
  "nbformat_minor": 0,
  "metadata": {
    "colab": {
      "name": "EE763_project.ipynb",
      "provenance": [],
      "authorship_tag": "ABX9TyNRox+HW6UPWMpR3h8lCaLm",
      "include_colab_link": true
    },
    "kernelspec": {
      "name": "python3",
      "display_name": "Python 3"
    }
  },
  "cells": [
    {
      "cell_type": "markdown",
      "metadata": {
        "id": "view-in-github",
        "colab_type": "text"
      },
      "source": [
        "<a href=\"https://colab.research.google.com/github/rs9899/neuralODE_embedding/blob/master/neuralODE_basic.ipynb\" target=\"_parent\"><img src=\"https://colab.research.google.com/assets/colab-badge.svg\" alt=\"Open In Colab\"/></a>"
      ]
    },
    {
      "cell_type": "code",
      "metadata": {
        "id": "9ykqExC9XuP-",
        "colab_type": "code",
        "colab": {
          "base_uri": "https://localhost:8080/",
          "height": 136
        },
        "outputId": "7bca856a-6657-435c-e087-2d283e9194ad"
      },
      "source": [
        "!pip install torchdiffeq"
      ],
      "execution_count": null,
      "outputs": [
        {
          "output_type": "stream",
          "text": [
            "Collecting torchdiffeq\n",
            "  Downloading https://files.pythonhosted.org/packages/5e/5f/39329eedb912706d99c989e9b092887ef51a66dd8e4e66cc8566cfe37387/torchdiffeq-0.0.1-py3-none-any.whl\n",
            "Requirement already satisfied: torch>=0.4.1 in /usr/local/lib/python3.6/dist-packages (from torchdiffeq) (1.5.0+cu101)\n",
            "Requirement already satisfied: numpy in /usr/local/lib/python3.6/dist-packages (from torch>=0.4.1->torchdiffeq) (1.18.5)\n",
            "Requirement already satisfied: future in /usr/local/lib/python3.6/dist-packages (from torch>=0.4.1->torchdiffeq) (0.16.0)\n",
            "Installing collected packages: torchdiffeq\n",
            "Successfully installed torchdiffeq-0.0.1\n"
          ],
          "name": "stdout"
        }
      ]
    },
    {
      "cell_type": "code",
      "metadata": {
        "id": "aR0M6Ol2bTBA",
        "colab_type": "code",
        "colab": {}
      },
      "source": [
        "import os\n",
        "import argparse\n",
        "import time\n",
        "import numpy as np\n",
        "\n",
        "import torch\n",
        "import torch.nn as nn\n",
        "import torch.optim as optim"
      ],
      "execution_count": null,
      "outputs": []
    },
    {
      "cell_type": "code",
      "metadata": {
        "id": "JtzRgtWzbjyo",
        "colab_type": "code",
        "colab": {}
      },
      "source": [
        "from torchdiffeq import odeint\n",
        "# from torchdiffeq import odeint_adjoint as odeint\n"
      ],
      "execution_count": null,
      "outputs": []
    },
    {
      "cell_type": "code",
      "metadata": {
        "id": "t6_7STkobs1p",
        "colab_type": "code",
        "colab": {}
      },
      "source": [
        "class ARG():\n",
        "\tdef __init__(self):\n",
        "\t\tself.method \t\t=\t'dopri5'\n",
        "\t\tself.data_size \t\t=\t1000\n",
        "\t\tself.batch_time \t=\t10\n",
        "\t\tself.batch_size \t=\t20\n",
        "\t\tself.niters \t\t=\t2000\n",
        "\t\tself.test_freq \t\t=\t20\n",
        "\t\tself.viz \t\t\t=  True\n",
        "\t\tself.gpu \t\t\t=\t0\n",
        "\t\tself.adjoint \t\t=\tTrue\n"
      ],
      "execution_count": null,
      "outputs": []
    },
    {
      "cell_type": "code",
      "metadata": {
        "id": "gIYsiIQ5dGwO",
        "colab_type": "code",
        "colab": {}
      },
      "source": [
        "args=ARG()"
      ],
      "execution_count": null,
      "outputs": []
    },
    {
      "cell_type": "code",
      "metadata": {
        "id": "Gx9lsVvgcgwF",
        "colab_type": "code",
        "colab": {
          "base_uri": "https://localhost:8080/",
          "height": 34
        },
        "outputId": "220b0b5a-b1be-40bd-c3d3-79694a0d9e8e"
      },
      "source": [
        "args.adjoint"
      ],
      "execution_count": null,
      "outputs": [
        {
          "output_type": "execute_result",
          "data": {
            "text/plain": [
              "True"
            ]
          },
          "metadata": {
            "tags": []
          },
          "execution_count": 10
        }
      ]
    },
    {
      "cell_type": "code",
      "metadata": {
        "id": "1jGUghMAckT0",
        "colab_type": "code",
        "colab": {}
      },
      "source": [
        "device = torch.device('cuda:' + str(args.gpu) if torch.cuda.is_available() else 'cpu')"
      ],
      "execution_count": null,
      "outputs": []
    },
    {
      "cell_type": "code",
      "metadata": {
        "id": "y2SD_mfMdPY8",
        "colab_type": "code",
        "colab": {
          "base_uri": "https://localhost:8080/",
          "height": 34
        },
        "outputId": "dff2fc7a-3f72-4367-82d7-73df4fc7fd2b"
      },
      "source": [
        "device"
      ],
      "execution_count": null,
      "outputs": [
        {
          "output_type": "execute_result",
          "data": {
            "text/plain": [
              "device(type='cpu')"
            ]
          },
          "metadata": {
            "tags": []
          },
          "execution_count": 12
        }
      ]
    },
    {
      "cell_type": "code",
      "metadata": {
        "id": "-y-61HdCdQST",
        "colab_type": "code",
        "colab": {}
      },
      "source": [
        "true_y0 = torch.tensor([[2., 0.]])\n",
        "t = torch.linspace(0., 25., args.data_size)\n",
        "true_A = torch.tensor([[-0.1, 2.0], [-2.0, -0.1]])"
      ],
      "execution_count": null,
      "outputs": []
    },
    {
      "cell_type": "code",
      "metadata": {
        "id": "OyVdJ6x2dfOd",
        "colab_type": "code",
        "colab": {}
      },
      "source": [
        "class Lambda(nn.Module):\n",
        "    def forward(self, t, y):\n",
        "        return torch.mm(y**3, true_A)"
      ],
      "execution_count": null,
      "outputs": []
    },
    {
      "cell_type": "code",
      "metadata": {
        "id": "dB73r9D9eEnS",
        "colab_type": "code",
        "colab": {}
      },
      "source": [
        "with torch.no_grad():\n",
        "    true_y = odeint(Lambda(), true_y0, t, method='dopri5')"
      ],
      "execution_count": null,
      "outputs": []
    },
    {
      "cell_type": "code",
      "metadata": {
        "id": "hcVgU1AweFOH",
        "colab_type": "code",
        "colab": {}
      },
      "source": [
        "def get_batch():\n",
        "    s = torch.from_numpy(np.random.choice(np.arange(args.data_size - args.batch_time, dtype=np.int64), args.batch_size, replace=False))\n",
        "    batch_y0 = true_y[s]  # (M, D)\n",
        "    batch_t = t[:args.batch_time]  # (T)\n",
        "    batch_y = torch.stack([true_y[s + i] for i in range(args.batch_time)], dim=0)  # (T, M, D)\n",
        "    return batch_y0, batch_t, batch_y\n"
      ],
      "execution_count": null,
      "outputs": []
    },
    {
      "cell_type": "code",
      "metadata": {
        "id": "UEk1Z3ByeHsk",
        "colab_type": "code",
        "colab": {}
      },
      "source": [
        "def makedirs(dirname):\n",
        "    if not os.path.exists(dirname):\n",
        "        os.makedirs(dirname)"
      ],
      "execution_count": null,
      "outputs": []
    },
    {
      "cell_type": "code",
      "metadata": {
        "id": "oxmwmRiWeJmz",
        "colab_type": "code",
        "colab": {
          "base_uri": "https://localhost:8080/",
          "height": 269
        },
        "outputId": "3c74dbfd-0eeb-4f56-88a5-d6678388495f"
      },
      "source": [
        "if args.viz:\n",
        "    makedirs('png')\n",
        "    import matplotlib.pyplot as plt\n",
        "    fig = plt.figure(figsize=(12, 4), facecolor='white')\n",
        "    ax_traj = fig.add_subplot(131, frameon=False)\n",
        "    ax_phase = fig.add_subplot(132, frameon=False)\n",
        "    ax_vecfield = fig.add_subplot(133, frameon=False)\n",
        "    plt.show(block=False)"
      ],
      "execution_count": null,
      "outputs": [
        {
          "output_type": "display_data",
          "data": {
            "image/png": "[encoded data removed]",
            "text/plain": [
              "<Figure size 864x288 with 3 Axes>"
            ]
          },
          "metadata": {
            "tags": []
          }
        }
      ]
    },
    {
      "cell_type": "code",
      "metadata": {
        "id": "rJdV8VUmePXl",
        "colab_type": "code",
        "colab": {}
      },
      "source": [
        "def visualize(true_y, pred_y, odefunc, itr):\n",
        "\n",
        "    if args.viz:\n",
        "\n",
        "        ax_traj.cla()\n",
        "        ax_traj.set_title('Trajectories')\n",
        "        ax_traj.set_xlabel('t')\n",
        "        ax_traj.set_ylabel('x,y')\n",
        "        ax_traj.plot(t.numpy(), true_y.numpy()[:, 0, 0], t.numpy(), true_y.numpy()[:, 0, 1], 'g-')\n",
        "        ax_traj.plot(t.numpy(), pred_y.numpy()[:, 0, 0], '--', t.numpy(), pred_y.numpy()[:, 0, 1], 'b--')\n",
        "        ax_traj.set_xlim(t.min(), t.max())\n",
        "        ax_traj.set_ylim(-2, 2)\n",
        "        ax_traj.legend()\n",
        "\n",
        "        ax_phase.cla()\n",
        "        ax_phase.set_title('Phase Portrait')\n",
        "        ax_phase.set_xlabel('x')\n",
        "        ax_phase.set_ylabel('y')\n",
        "        ax_phase.plot(true_y.numpy()[:, 0, 0], true_y.numpy()[:, 0, 1], 'g-')\n",
        "        ax_phase.plot(pred_y.numpy()[:, 0, 0], pred_y.numpy()[:, 0, 1], 'b--')\n",
        "        ax_phase.set_xlim(-2, 2)\n",
        "        ax_phase.set_ylim(-2, 2)\n",
        "\n",
        "        ax_vecfield.cla()\n",
        "        ax_vecfield.set_title('Learned Vector Field')\n",
        "        ax_vecfield.set_xlabel('x')\n",
        "        ax_vecfield.set_ylabel('y')\n",
        "\n",
        "        y, x = np.mgrid[-2:2:21j, -2:2:21j]\n",
        "        dydt = odefunc(0, torch.Tensor(np.stack([x, y], -1).reshape(21 * 21, 2))).cpu().detach().numpy()\n",
        "        mag = np.sqrt(dydt[:, 0]**2 + dydt[:, 1]**2).reshape(-1, 1)\n",
        "        dydt = (dydt / mag)\n",
        "        dydt = dydt.reshape(21, 21, 2)\n",
        "\n",
        "        ax_vecfield.streamplot(x, y, dydt[:, :, 0], dydt[:, :, 1], color=\"black\")\n",
        "        ax_vecfield.set_xlim(-2, 2)\n",
        "        ax_vecfield.set_ylim(-2, 2)\n",
        "\n",
        "        fig.tight_layout()\n",
        "        plt.savefig('png/{:03d}'.format(itr))\n",
        "        plt.draw()\n",
        "        plt.pause(0.001)\n"
      ],
      "execution_count": null,
      "outputs": []
    },
    {
      "cell_type": "code",
      "metadata": {
        "id": "-y9m-RfUfO33",
        "colab_type": "code",
        "colab": {}
      },
      "source": [
        "class ODEFunc(nn.Module):\n",
        "\n",
        "    def __init__(self):\n",
        "        super(ODEFunc, self).__init__()\n",
        "\n",
        "        self.net = nn.Sequential(\n",
        "            nn.Linear(2, 50),\n",
        "            nn.Tanh(),\n",
        "            nn.Linear(50, 2),\n",
        "        )\n",
        "\n",
        "        for m in self.net.modules():\n",
        "            if isinstance(m, nn.Linear):\n",
        "                nn.init.normal_(m.weight, mean=0, std=0.1)\n",
        "                nn.init.constant_(m.bias, val=0)\n",
        "\n",
        "    def forward(self, t, y):\n",
        "        return self.net(y**3)\n"
      ],
      "execution_count": null,
      "outputs": []
    },
    {
      "cell_type": "code",
      "metadata": {
        "id": "BnP0tWVhfTg_",
        "colab_type": "code",
        "colab": {}
      },
      "source": [
        "class RunningAverageMeter(object):\n",
        "    \"\"\"Computes and stores the average and current value\"\"\"\n",
        "\n",
        "    def __init__(self, momentum=0.99):\n",
        "        self.momentum = momentum\n",
        "        self.reset()\n",
        "\n",
        "    def reset(self):\n",
        "        self.val = None\n",
        "        self.avg = 0\n",
        "\n",
        "    def update(self, val):\n",
        "        if self.val is None:\n",
        "            self.avg = val\n",
        "        else:\n",
        "            self.avg = self.avg * self.momentum + val * (1 - self.momentum)\n",
        "        self.val = val\n"
      ],
      "execution_count": null,
      "outputs": []
    },
    {
      "cell_type": "code",
      "metadata": {
        "id": "KB50EbxEfV8Y",
        "colab_type": "code",
        "colab": {}
      },
      "source": [
        "ii = 0"
      ],
      "execution_count": null,
      "outputs": []
    },
    {
      "cell_type": "code",
      "metadata": {
        "id": "6-LpIIdXfX-5",
        "colab_type": "code",
        "colab": {}
      },
      "source": [
        "func = ODEFunc()\n",
        "optimizer = optim.RMSprop(func.parameters(), lr=1e-3)\n",
        "end = time.time()\n",
        "\n",
        "time_meter = RunningAverageMeter(0.97)\n",
        "loss_meter = RunningAverageMeter(0.97)\n"
      ],
      "execution_count": null,
      "outputs": []
    },
    {
      "cell_type": "code",
      "metadata": {
        "id": "5bL4Josxfaie",
        "colab_type": "code",
        "colab": {}
      },
      "source": [
        "for itr in range(1, args.niters + 1):\n",
        "    optimizer.zero_grad()\n",
        "    batch_y0, batch_t, batch_y = get_batch()\n",
        "    pred_y = odeint(func, batch_y0, batch_t)\n",
        "    loss = torch.mean(torch.abs(pred_y - batch_y))\n",
        "    loss.backward()\n",
        "    optimizer.step()\n",
        "\n",
        "    time_meter.update(time.time() - end)\n",
        "    loss_meter.update(loss.item())\n",
        "\n",
        "    if itr % args.test_freq == 0:\n",
        "        with torch.no_grad():\n",
        "            pred_y = odeint(func, true_y0, t)\n",
        "            loss = torch.mean(torch.abs(pred_y - true_y))\n",
        "            print('Iter {:04d} | Total Loss {:.6f}'.format(itr, loss.item()))\n",
        "            visualize(true_y, pred_y, func, ii)\n",
        "            ii += 1\n",
        "\n",
        "    end = time.time()"
      ],
      "execution_count": null,
      "outputs": []
    },
    {
      "cell_type": "code",
      "metadata": {
        "id": "XqZGNlMWfew9",
        "colab_type": "code",
        "colab": {}
      },
      "source": [
        ""
      ],
      "execution_count": null,
      "outputs": []
    }
  ]
}